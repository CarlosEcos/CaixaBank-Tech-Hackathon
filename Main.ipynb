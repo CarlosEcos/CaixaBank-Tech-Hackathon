{
 "cells": [
  {
   "cell_type": "code",
   "execution_count": 1,
   "id": "e9fb8465",
   "metadata": {},
   "outputs": [],
   "source": [
    "import pandas as pd\n",
    "import numpy as np\n",
    "import matplotlib.pyplot as plt\n",
    "import seaborn as sns\n",
    "%matplotlib inline"
   ]
  },
  {
   "cell_type": "code",
   "execution_count": 2,
   "id": "77f80ff9",
   "metadata": {
    "scrolled": false
   },
   "outputs": [
    {
     "data": {
      "text/html": [
       "<div>\n",
       "<style scoped>\n",
       "    .dataframe tbody tr th:only-of-type {\n",
       "        vertical-align: middle;\n",
       "    }\n",
       "\n",
       "    .dataframe tbody tr th {\n",
       "        vertical-align: top;\n",
       "    }\n",
       "\n",
       "    .dataframe thead th {\n",
       "        text-align: right;\n",
       "    }\n",
       "</style>\n",
       "<table border=\"1\" class=\"dataframe\">\n",
       "  <thead>\n",
       "    <tr style=\"text-align: right;\">\n",
       "      <th></th>\n",
       "      <th>Date</th>\n",
       "      <th>Open</th>\n",
       "      <th>High</th>\n",
       "      <th>Low</th>\n",
       "      <th>Close</th>\n",
       "      <th>Adj Close</th>\n",
       "      <th>Volume</th>\n",
       "      <th>Target</th>\n",
       "    </tr>\n",
       "  </thead>\n",
       "  <tbody>\n",
       "    <tr>\n",
       "      <th>0</th>\n",
       "      <td>1994-01-03</td>\n",
       "      <td>3615.199951</td>\n",
       "      <td>3654.699951</td>\n",
       "      <td>3581.000000</td>\n",
       "      <td>3654.500000</td>\n",
       "      <td>3654.496338</td>\n",
       "      <td>0.0</td>\n",
       "      <td>0</td>\n",
       "    </tr>\n",
       "    <tr>\n",
       "      <th>1</th>\n",
       "      <td>1994-01-04</td>\n",
       "      <td>3654.500000</td>\n",
       "      <td>3675.500000</td>\n",
       "      <td>3625.100098</td>\n",
       "      <td>3630.300049</td>\n",
       "      <td>3630.296387</td>\n",
       "      <td>0.0</td>\n",
       "      <td>1</td>\n",
       "    </tr>\n",
       "    <tr>\n",
       "      <th>2</th>\n",
       "      <td>1994-01-05</td>\n",
       "      <td>3625.199951</td>\n",
       "      <td>3625.199951</td>\n",
       "      <td>3583.399902</td>\n",
       "      <td>3621.199951</td>\n",
       "      <td>3621.196289</td>\n",
       "      <td>0.0</td>\n",
       "      <td>1</td>\n",
       "    </tr>\n",
       "    <tr>\n",
       "      <th>3</th>\n",
       "      <td>1994-01-06</td>\n",
       "      <td>NaN</td>\n",
       "      <td>NaN</td>\n",
       "      <td>NaN</td>\n",
       "      <td>NaN</td>\n",
       "      <td>NaN</td>\n",
       "      <td>NaN</td>\n",
       "      <td>0</td>\n",
       "    </tr>\n",
       "    <tr>\n",
       "      <th>4</th>\n",
       "      <td>1994-01-07</td>\n",
       "      <td>3621.199951</td>\n",
       "      <td>3644.399902</td>\n",
       "      <td>3598.699951</td>\n",
       "      <td>3636.399902</td>\n",
       "      <td>3636.396240</td>\n",
       "      <td>0.0</td>\n",
       "      <td>1</td>\n",
       "    </tr>\n",
       "  </tbody>\n",
       "</table>\n",
       "</div>"
      ],
      "text/plain": [
       "         Date         Open         High          Low        Close  \\\n",
       "0  1994-01-03  3615.199951  3654.699951  3581.000000  3654.500000   \n",
       "1  1994-01-04  3654.500000  3675.500000  3625.100098  3630.300049   \n",
       "2  1994-01-05  3625.199951  3625.199951  3583.399902  3621.199951   \n",
       "3  1994-01-06          NaN          NaN          NaN          NaN   \n",
       "4  1994-01-07  3621.199951  3644.399902  3598.699951  3636.399902   \n",
       "\n",
       "     Adj Close  Volume  Target  \n",
       "0  3654.496338     0.0       0  \n",
       "1  3630.296387     0.0       1  \n",
       "2  3621.196289     0.0       1  \n",
       "3          NaN     NaN       0  \n",
       "4  3636.396240     0.0       1  "
      ]
     },
     "execution_count": 2,
     "metadata": {},
     "output_type": "execute_result"
    }
   ],
   "source": [
    "data = pd.read_csv('train.csv');\n",
    "data.head()"
   ]
  },
  {
   "cell_type": "code",
   "execution_count": 3,
   "id": "c7c93e7a",
   "metadata": {
    "scrolled": true
   },
   "outputs": [
    {
     "data": {
      "text/plain": [
       "(6554, 8)"
      ]
     },
     "execution_count": 3,
     "metadata": {},
     "output_type": "execute_result"
    }
   ],
   "source": [
    "data.shape"
   ]
  },
  {
   "cell_type": "code",
   "execution_count": 4,
   "id": "09f055d6",
   "metadata": {},
   "outputs": [
    {
     "data": {
      "text/html": [
       "<div>\n",
       "<style scoped>\n",
       "    .dataframe tbody tr th:only-of-type {\n",
       "        vertical-align: middle;\n",
       "    }\n",
       "\n",
       "    .dataframe tbody tr th {\n",
       "        vertical-align: top;\n",
       "    }\n",
       "\n",
       "    .dataframe thead th {\n",
       "        text-align: right;\n",
       "    }\n",
       "</style>\n",
       "<table border=\"1\" class=\"dataframe\">\n",
       "  <thead>\n",
       "    <tr style=\"text-align: right;\">\n",
       "      <th></th>\n",
       "      <th>Open</th>\n",
       "      <th>High</th>\n",
       "      <th>Low</th>\n",
       "      <th>Close</th>\n",
       "      <th>Adj Close</th>\n",
       "      <th>Volume</th>\n",
       "      <th>Target</th>\n",
       "    </tr>\n",
       "  </thead>\n",
       "  <tbody>\n",
       "    <tr>\n",
       "      <th>count</th>\n",
       "      <td>6421.000000</td>\n",
       "      <td>6421.000000</td>\n",
       "      <td>6421.000000</td>\n",
       "      <td>6421.000000</td>\n",
       "      <td>6421.000000</td>\n",
       "      <td>6.421000e+03</td>\n",
       "      <td>6554.000000</td>\n",
       "    </tr>\n",
       "    <tr>\n",
       "      <th>mean</th>\n",
       "      <td>8936.540448</td>\n",
       "      <td>9005.235576</td>\n",
       "      <td>8858.340567</td>\n",
       "      <td>8934.978558</td>\n",
       "      <td>8934.970624</td>\n",
       "      <td>8.218074e+07</td>\n",
       "      <td>0.516936</td>\n",
       "    </tr>\n",
       "    <tr>\n",
       "      <th>std</th>\n",
       "      <td>2732.102441</td>\n",
       "      <td>2749.009324</td>\n",
       "      <td>2712.511028</td>\n",
       "      <td>2731.032625</td>\n",
       "      <td>2731.030170</td>\n",
       "      <td>1.231845e+08</td>\n",
       "      <td>0.499751</td>\n",
       "    </tr>\n",
       "    <tr>\n",
       "      <th>min</th>\n",
       "      <td>2865.100098</td>\n",
       "      <td>2877.300049</td>\n",
       "      <td>2833.600098</td>\n",
       "      <td>2865.100098</td>\n",
       "      <td>2865.097168</td>\n",
       "      <td>0.000000e+00</td>\n",
       "      <td>0.000000</td>\n",
       "    </tr>\n",
       "    <tr>\n",
       "      <th>25%</th>\n",
       "      <td>7732.399902</td>\n",
       "      <td>7817.200195</td>\n",
       "      <td>7641.500000</td>\n",
       "      <td>7727.799805</td>\n",
       "      <td>7727.791992</td>\n",
       "      <td>0.000000e+00</td>\n",
       "      <td>0.000000</td>\n",
       "    </tr>\n",
       "    <tr>\n",
       "      <th>50%</th>\n",
       "      <td>9329.700195</td>\n",
       "      <td>9404.599609</td>\n",
       "      <td>9243.000000</td>\n",
       "      <td>9331.000000</td>\n",
       "      <td>9331.000000</td>\n",
       "      <td>1.966000e+05</td>\n",
       "      <td>1.000000</td>\n",
       "    </tr>\n",
       "    <tr>\n",
       "      <th>75%</th>\n",
       "      <td>10525.500000</td>\n",
       "      <td>10590.299805</td>\n",
       "      <td>10441.200195</td>\n",
       "      <td>10523.400391</td>\n",
       "      <td>10523.400391</td>\n",
       "      <td>1.773980e+08</td>\n",
       "      <td>1.000000</td>\n",
       "    </tr>\n",
       "    <tr>\n",
       "      <th>max</th>\n",
       "      <td>15999.200195</td>\n",
       "      <td>16040.400391</td>\n",
       "      <td>15868.599609</td>\n",
       "      <td>15945.700195</td>\n",
       "      <td>15945.683594</td>\n",
       "      <td>7.894902e+08</td>\n",
       "      <td>1.000000</td>\n",
       "    </tr>\n",
       "  </tbody>\n",
       "</table>\n",
       "</div>"
      ],
      "text/plain": [
       "               Open          High           Low         Close     Adj Close  \\\n",
       "count   6421.000000   6421.000000   6421.000000   6421.000000   6421.000000   \n",
       "mean    8936.540448   9005.235576   8858.340567   8934.978558   8934.970624   \n",
       "std     2732.102441   2749.009324   2712.511028   2731.032625   2731.030170   \n",
       "min     2865.100098   2877.300049   2833.600098   2865.100098   2865.097168   \n",
       "25%     7732.399902   7817.200195   7641.500000   7727.799805   7727.791992   \n",
       "50%     9329.700195   9404.599609   9243.000000   9331.000000   9331.000000   \n",
       "75%    10525.500000  10590.299805  10441.200195  10523.400391  10523.400391   \n",
       "max    15999.200195  16040.400391  15868.599609  15945.700195  15945.683594   \n",
       "\n",
       "             Volume       Target  \n",
       "count  6.421000e+03  6554.000000  \n",
       "mean   8.218074e+07     0.516936  \n",
       "std    1.231845e+08     0.499751  \n",
       "min    0.000000e+00     0.000000  \n",
       "25%    0.000000e+00     0.000000  \n",
       "50%    1.966000e+05     1.000000  \n",
       "75%    1.773980e+08     1.000000  \n",
       "max    7.894902e+08     1.000000  "
      ]
     },
     "execution_count": 4,
     "metadata": {},
     "output_type": "execute_result"
    }
   ],
   "source": [
    "# Verificar caracteristicas de las variables y nro de NaNs\n",
    "data.describe()"
   ]
  },
  {
   "cell_type": "code",
   "execution_count": 5,
   "id": "210d04c2",
   "metadata": {
    "scrolled": false
   },
   "outputs": [
    {
     "data": {
      "text/html": [
       "<div>\n",
       "<style scoped>\n",
       "    .dataframe tbody tr th:only-of-type {\n",
       "        vertical-align: middle;\n",
       "    }\n",
       "\n",
       "    .dataframe tbody tr th {\n",
       "        vertical-align: top;\n",
       "    }\n",
       "\n",
       "    .dataframe thead th {\n",
       "        text-align: right;\n",
       "    }\n",
       "</style>\n",
       "<table border=\"1\" class=\"dataframe\">\n",
       "  <thead>\n",
       "    <tr style=\"text-align: right;\">\n",
       "      <th></th>\n",
       "      <th>Date</th>\n",
       "      <th>Open</th>\n",
       "      <th>High</th>\n",
       "      <th>Low</th>\n",
       "      <th>Close</th>\n",
       "      <th>Adj Close</th>\n",
       "      <th>Volume</th>\n",
       "      <th>Target</th>\n",
       "    </tr>\n",
       "  </thead>\n",
       "  <tbody>\n",
       "    <tr>\n",
       "      <th>0</th>\n",
       "      <td>1994-01-03</td>\n",
       "      <td>3615.199951</td>\n",
       "      <td>3654.699951</td>\n",
       "      <td>3581.000000</td>\n",
       "      <td>3654.500000</td>\n",
       "      <td>3654.496338</td>\n",
       "      <td>0.0</td>\n",
       "      <td>0</td>\n",
       "    </tr>\n",
       "    <tr>\n",
       "      <th>1</th>\n",
       "      <td>1994-01-04</td>\n",
       "      <td>3654.500000</td>\n",
       "      <td>3675.500000</td>\n",
       "      <td>3625.100098</td>\n",
       "      <td>3630.300049</td>\n",
       "      <td>3630.296387</td>\n",
       "      <td>0.0</td>\n",
       "      <td>1</td>\n",
       "    </tr>\n",
       "    <tr>\n",
       "      <th>2</th>\n",
       "      <td>1994-01-05</td>\n",
       "      <td>3625.199951</td>\n",
       "      <td>3625.199951</td>\n",
       "      <td>3583.399902</td>\n",
       "      <td>3621.199951</td>\n",
       "      <td>3621.196289</td>\n",
       "      <td>0.0</td>\n",
       "      <td>1</td>\n",
       "    </tr>\n",
       "    <tr>\n",
       "      <th>4</th>\n",
       "      <td>1994-01-07</td>\n",
       "      <td>3621.199951</td>\n",
       "      <td>3644.399902</td>\n",
       "      <td>3598.699951</td>\n",
       "      <td>3636.399902</td>\n",
       "      <td>3636.396240</td>\n",
       "      <td>0.0</td>\n",
       "      <td>1</td>\n",
       "    </tr>\n",
       "    <tr>\n",
       "      <th>5</th>\n",
       "      <td>1994-01-10</td>\n",
       "      <td>3655.199951</td>\n",
       "      <td>3678.199951</td>\n",
       "      <td>3655.199951</td>\n",
       "      <td>3660.600098</td>\n",
       "      <td>3660.596436</td>\n",
       "      <td>0.0</td>\n",
       "      <td>1</td>\n",
       "    </tr>\n",
       "  </tbody>\n",
       "</table>\n",
       "</div>"
      ],
      "text/plain": [
       "         Date         Open         High          Low        Close  \\\n",
       "0  1994-01-03  3615.199951  3654.699951  3581.000000  3654.500000   \n",
       "1  1994-01-04  3654.500000  3675.500000  3625.100098  3630.300049   \n",
       "2  1994-01-05  3625.199951  3625.199951  3583.399902  3621.199951   \n",
       "4  1994-01-07  3621.199951  3644.399902  3598.699951  3636.399902   \n",
       "5  1994-01-10  3655.199951  3678.199951  3655.199951  3660.600098   \n",
       "\n",
       "     Adj Close  Volume  Target  \n",
       "0  3654.496338     0.0       0  \n",
       "1  3630.296387     0.0       1  \n",
       "2  3621.196289     0.0       1  \n",
       "4  3636.396240     0.0       1  \n",
       "5  3660.596436     0.0       1  "
      ]
     },
     "execution_count": 5,
     "metadata": {},
     "output_type": "execute_result"
    }
   ],
   "source": [
    "data = data.dropna(axis = 0, how = \"any\")\n",
    "data.head()"
   ]
  },
  {
   "cell_type": "code",
   "execution_count": 6,
   "id": "9baca155",
   "metadata": {},
   "outputs": [
    {
     "data": {
      "text/plain": [
       "(6421, 8)"
      ]
     },
     "execution_count": 6,
     "metadata": {},
     "output_type": "execute_result"
    }
   ],
   "source": [
    "data.shape"
   ]
  },
  {
   "cell_type": "code",
   "execution_count": 7,
   "id": "fee7e7cb",
   "metadata": {
    "scrolled": true
   },
   "outputs": [
    {
     "data": {
      "text/plain": [
       "Target\n",
       "0    3033\n",
       "1    3388\n",
       "dtype: int64"
      ]
     },
     "execution_count": 7,
     "metadata": {},
     "output_type": "execute_result"
    }
   ],
   "source": [
    "data.groupby(\"Target\").size()"
   ]
  },
  {
   "cell_type": "code",
   "execution_count": 8,
   "id": "6b88ac4e",
   "metadata": {},
   "outputs": [],
   "source": [
    "import datetime as dt"
   ]
  },
  {
   "cell_type": "code",
   "execution_count": 9,
   "id": "e8571e37",
   "metadata": {
    "scrolled": true
   },
   "outputs": [],
   "source": [
    "# Convertir fecha a formato numerico empezando desde 0\n",
    "def date_to_int(data):\n",
    "    data2 = data;\n",
    "    data2[\"Date\"] = pd.to_datetime(data[\"Date\"])\n",
    "    data2[\"Date\"] = data2[\"Date\"].map(dt.datetime.toordinal)\n",
    "    d0 = 727931; # Valor correspondiente a 1994-01-03;\n",
    "    data2[\"Date\"] = np.array(data2[\"Date\"]).reshape(-1,1) - d0*np.ones([len(data2),1])\n",
    "    return data2"
   ]
  },
  {
   "cell_type": "code",
   "execution_count": 10,
   "id": "fb7ed034",
   "metadata": {},
   "outputs": [],
   "source": [
    "data = date_to_int(data)"
   ]
  },
  {
   "cell_type": "code",
   "execution_count": 11,
   "id": "7dbaab10",
   "metadata": {},
   "outputs": [
    {
     "data": {
      "image/png": "[encoded data removed]",
      "text/plain": [
       "<Figure size 576x576 with 2 Axes>"
      ]
     },
     "metadata": {
      "needs_background": "light"
     },
     "output_type": "display_data"
    }
   ],
   "source": [
    "plt.figure(figsize=(8,8))\n",
    "sns.heatmap(data.corr(), vmax = 1, square = True, annot = True, cmap = \"viridis\")\n",
    "plt.title(\"Matriz de correlación\")\n",
    "plt.show()"
   ]
  },
  {
   "cell_type": "code",
   "execution_count": 12,
   "id": "3a06d37f",
   "metadata": {},
   "outputs": [],
   "source": [
    "columns = data.columns.values.tolist()\n",
    "X = data[columns[:-1]]\n",
    "Y = data[columns[-1]]"
   ]
  },
  {
   "cell_type": "markdown",
   "id": "a8327272",
   "metadata": {},
   "source": [
    "## Decision Tree"
   ]
  },
  {
   "cell_type": "code",
   "execution_count": 13,
   "id": "4d6a69df",
   "metadata": {},
   "outputs": [],
   "source": [
    "from sklearn.tree import DecisionTreeClassifier, plot_tree\n",
    "from sklearn.feature_selection import RFE"
   ]
  },
  {
   "cell_type": "code",
   "execution_count": 14,
   "id": "933f53fb",
   "metadata": {},
   "outputs": [],
   "source": [
    " tree = DecisionTreeClassifier(criterion = \"entropy\", min_samples_split = 10, random_state = 99)"
   ]
  },
  {
   "cell_type": "code",
   "execution_count": 15,
   "id": "5c0e7d2a",
   "metadata": {
    "scrolled": true
   },
   "outputs": [],
   "source": [
    "from sklearn.model_selection import cross_val_score\n",
    "from sklearn.model_selection import KFold"
   ]
  },
  {
   "cell_type": "code",
   "execution_count": 16,
   "id": "10d55533",
   "metadata": {},
   "outputs": [],
   "source": [
    "cv = KFold(n_splits = 20, shuffle = True, random_state = 1)"
   ]
  },
  {
   "cell_type": "code",
   "execution_count": 17,
   "id": "896e4c24",
   "metadata": {},
   "outputs": [
    {
     "data": {
      "text/plain": [
       "0.6467855691646833"
      ]
     },
     "execution_count": 17,
     "metadata": {},
     "output_type": "execute_result"
    }
   ],
   "source": [
    "tree.fit(X,Y)\n",
    "scores = cross_val_score(tree, X, Y, scoring = \"accuracy\", cv = cv, n_jobs = 1)\n",
    "scores.mean()"
   ]
  },
  {
   "cell_type": "markdown",
   "id": "32d6d9d6",
   "metadata": {},
   "source": [
    "## Predicción"
   ]
  },
  {
   "cell_type": "code",
   "execution_count": 18,
   "id": "3b191498",
   "metadata": {
    "scrolled": true
   },
   "outputs": [
    {
     "data": {
      "text/html": [
       "<div>\n",
       "<style scoped>\n",
       "    .dataframe tbody tr th:only-of-type {\n",
       "        vertical-align: middle;\n",
       "    }\n",
       "\n",
       "    .dataframe tbody tr th {\n",
       "        vertical-align: top;\n",
       "    }\n",
       "\n",
       "    .dataframe thead th {\n",
       "        text-align: right;\n",
       "    }\n",
       "</style>\n",
       "<table border=\"1\" class=\"dataframe\">\n",
       "  <thead>\n",
       "    <tr style=\"text-align: right;\">\n",
       "      <th></th>\n",
       "      <th>test_index</th>\n",
       "      <th>Date</th>\n",
       "      <th>Open</th>\n",
       "      <th>High</th>\n",
       "      <th>Low</th>\n",
       "      <th>Close</th>\n",
       "      <th>Adj Close</th>\n",
       "      <th>Volume</th>\n",
       "    </tr>\n",
       "  </thead>\n",
       "  <tbody>\n",
       "    <tr>\n",
       "      <th>0</th>\n",
       "      <td>6557</td>\n",
       "      <td>2019-06-05</td>\n",
       "      <td>9136.799805</td>\n",
       "      <td>9173.400391</td>\n",
       "      <td>9095.000000</td>\n",
       "      <td>9150.500000</td>\n",
       "      <td>9150.500000</td>\n",
       "      <td>158753000.0</td>\n",
       "    </tr>\n",
       "    <tr>\n",
       "      <th>1</th>\n",
       "      <td>6558</td>\n",
       "      <td>2019-06-06</td>\n",
       "      <td>9169.200195</td>\n",
       "      <td>9246.200195</td>\n",
       "      <td>9136.700195</td>\n",
       "      <td>9169.200195</td>\n",
       "      <td>9169.200195</td>\n",
       "      <td>212720900.0</td>\n",
       "    </tr>\n",
       "    <tr>\n",
       "      <th>2</th>\n",
       "      <td>6559</td>\n",
       "      <td>2019-06-07</td>\n",
       "      <td>9186.700195</td>\n",
       "      <td>9261.400391</td>\n",
       "      <td>9185.700195</td>\n",
       "      <td>9236.099609</td>\n",
       "      <td>9236.099609</td>\n",
       "      <td>150664700.0</td>\n",
       "    </tr>\n",
       "    <tr>\n",
       "      <th>3</th>\n",
       "      <td>6560</td>\n",
       "      <td>2019-06-10</td>\n",
       "      <td>9284.200195</td>\n",
       "      <td>9302.200195</td>\n",
       "      <td>9248.099609</td>\n",
       "      <td>9294.099609</td>\n",
       "      <td>9294.099609</td>\n",
       "      <td>102323700.0</td>\n",
       "    </tr>\n",
       "    <tr>\n",
       "      <th>4</th>\n",
       "      <td>6561</td>\n",
       "      <td>2019-06-11</td>\n",
       "      <td>9288.599609</td>\n",
       "      <td>9332.500000</td>\n",
       "      <td>9273.400391</td>\n",
       "      <td>9282.099609</td>\n",
       "      <td>9282.099609</td>\n",
       "      <td>144701200.0</td>\n",
       "    </tr>\n",
       "  </tbody>\n",
       "</table>\n",
       "</div>"
      ],
      "text/plain": [
       "   test_index        Date         Open         High          Low        Close  \\\n",
       "0        6557  2019-06-05  9136.799805  9173.400391  9095.000000  9150.500000   \n",
       "1        6558  2019-06-06  9169.200195  9246.200195  9136.700195  9169.200195   \n",
       "2        6559  2019-06-07  9186.700195  9261.400391  9185.700195  9236.099609   \n",
       "3        6560  2019-06-10  9284.200195  9302.200195  9248.099609  9294.099609   \n",
       "4        6561  2019-06-11  9288.599609  9332.500000  9273.400391  9282.099609   \n",
       "\n",
       "     Adj Close       Volume  \n",
       "0  9150.500000  158753000.0  \n",
       "1  9169.200195  212720900.0  \n",
       "2  9236.099609  150664700.0  \n",
       "3  9294.099609  102323700.0  \n",
       "4  9282.099609  144701200.0  "
      ]
     },
     "execution_count": 18,
     "metadata": {},
     "output_type": "execute_result"
    }
   ],
   "source": [
    "test = pd.read_csv(\"test_x.csv\")\n",
    "test.head()"
   ]
  },
  {
   "cell_type": "code",
   "execution_count": 19,
   "id": "c1f8229b",
   "metadata": {
    "scrolled": false
   },
   "outputs": [
    {
     "data": {
      "text/html": [
       "<div>\n",
       "<style scoped>\n",
       "    .dataframe tbody tr th:only-of-type {\n",
       "        vertical-align: middle;\n",
       "    }\n",
       "\n",
       "    .dataframe tbody tr th {\n",
       "        vertical-align: top;\n",
       "    }\n",
       "\n",
       "    .dataframe thead th {\n",
       "        text-align: right;\n",
       "    }\n",
       "</style>\n",
       "<table border=\"1\" class=\"dataframe\">\n",
       "  <thead>\n",
       "    <tr style=\"text-align: right;\">\n",
       "      <th></th>\n",
       "      <th>test_index</th>\n",
       "      <th>Date</th>\n",
       "      <th>Open</th>\n",
       "      <th>High</th>\n",
       "      <th>Low</th>\n",
       "      <th>Close</th>\n",
       "      <th>Adj Close</th>\n",
       "      <th>Volume</th>\n",
       "    </tr>\n",
       "  </thead>\n",
       "  <tbody>\n",
       "    <tr>\n",
       "      <th>0</th>\n",
       "      <td>6557</td>\n",
       "      <td>9284.0</td>\n",
       "      <td>9136.799805</td>\n",
       "      <td>9173.400391</td>\n",
       "      <td>9095.000000</td>\n",
       "      <td>9150.500000</td>\n",
       "      <td>9150.500000</td>\n",
       "      <td>158753000.0</td>\n",
       "    </tr>\n",
       "    <tr>\n",
       "      <th>1</th>\n",
       "      <td>6558</td>\n",
       "      <td>9285.0</td>\n",
       "      <td>9169.200195</td>\n",
       "      <td>9246.200195</td>\n",
       "      <td>9136.700195</td>\n",
       "      <td>9169.200195</td>\n",
       "      <td>9169.200195</td>\n",
       "      <td>212720900.0</td>\n",
       "    </tr>\n",
       "    <tr>\n",
       "      <th>2</th>\n",
       "      <td>6559</td>\n",
       "      <td>9286.0</td>\n",
       "      <td>9186.700195</td>\n",
       "      <td>9261.400391</td>\n",
       "      <td>9185.700195</td>\n",
       "      <td>9236.099609</td>\n",
       "      <td>9236.099609</td>\n",
       "      <td>150664700.0</td>\n",
       "    </tr>\n",
       "    <tr>\n",
       "      <th>3</th>\n",
       "      <td>6560</td>\n",
       "      <td>9289.0</td>\n",
       "      <td>9284.200195</td>\n",
       "      <td>9302.200195</td>\n",
       "      <td>9248.099609</td>\n",
       "      <td>9294.099609</td>\n",
       "      <td>9294.099609</td>\n",
       "      <td>102323700.0</td>\n",
       "    </tr>\n",
       "    <tr>\n",
       "      <th>4</th>\n",
       "      <td>6561</td>\n",
       "      <td>9290.0</td>\n",
       "      <td>9288.599609</td>\n",
       "      <td>9332.500000</td>\n",
       "      <td>9273.400391</td>\n",
       "      <td>9282.099609</td>\n",
       "      <td>9282.099609</td>\n",
       "      <td>144701200.0</td>\n",
       "    </tr>\n",
       "  </tbody>\n",
       "</table>\n",
       "</div>"
      ],
      "text/plain": [
       "   test_index    Date         Open         High          Low        Close  \\\n",
       "0        6557  9284.0  9136.799805  9173.400391  9095.000000  9150.500000   \n",
       "1        6558  9285.0  9169.200195  9246.200195  9136.700195  9169.200195   \n",
       "2        6559  9286.0  9186.700195  9261.400391  9185.700195  9236.099609   \n",
       "3        6560  9289.0  9284.200195  9302.200195  9248.099609  9294.099609   \n",
       "4        6561  9290.0  9288.599609  9332.500000  9273.400391  9282.099609   \n",
       "\n",
       "     Adj Close       Volume  \n",
       "0  9150.500000  158753000.0  \n",
       "1  9169.200195  212720900.0  \n",
       "2  9236.099609  150664700.0  \n",
       "3  9294.099609  102323700.0  \n",
       "4  9282.099609  144701200.0  "
      ]
     },
     "execution_count": 19,
     "metadata": {},
     "output_type": "execute_result"
    }
   ],
   "source": [
    "test = date_to_int(test)\n",
    "test.head()"
   ]
  },
  {
   "cell_type": "code",
   "execution_count": 20,
   "id": "fd473fcf",
   "metadata": {},
   "outputs": [
    {
     "data": {
      "text/plain": [
       "['Date', 'Open', 'High', 'Low', 'Close', 'Adj Close', 'Volume']"
      ]
     },
     "execution_count": 20,
     "metadata": {},
     "output_type": "execute_result"
    }
   ],
   "source": [
    "columns = test.columns.values.tolist()\n",
    "predictors = columns[1:]\n",
    "predictors"
   ]
  },
  {
   "cell_type": "code",
   "execution_count": 33,
   "id": "113e0efa",
   "metadata": {},
   "outputs": [],
   "source": [
    "Y_pred = tree.predict(X[predictors])"
   ]
  },
  {
   "cell_type": "markdown",
   "id": "2481334c",
   "metadata": {},
   "source": [
    "## Creacion de archivos"
   ]
  },
  {
   "cell_type": "code",
   "execution_count": 22,
   "id": "fd38ccf7",
   "metadata": {},
   "outputs": [],
   "source": [
    "with open(\"prediction.csv\", \"w\") as outfile1:\n",
    "    for i in range(len(Y_pred)):\n",
    "        outfile1.write(str(Y_pred[i]))\n",
    "        outfile1.write(\"\\n\")"
   ]
  },
  {
   "cell_type": "code",
   "execution_count": 23,
   "id": "5e17f544",
   "metadata": {},
   "outputs": [],
   "source": [
    "import json"
   ]
  },
  {
   "cell_type": "code",
   "execution_count": 24,
   "id": "3f3712b2",
   "metadata": {},
   "outputs": [
    {
     "data": {
      "text/plain": [
       "'0'"
      ]
     },
     "execution_count": 24,
     "metadata": {},
     "output_type": "execute_result"
    }
   ],
   "source": [
    "Y_pred_str = []\n",
    "for i in Y_pred:\n",
    "    Y_pred_str.append(str(i))\n",
    "Y_pred_str[0]"
   ]
  },
  {
   "cell_type": "code",
   "execution_count": 25,
   "id": "e8e584b0",
   "metadata": {
    "scrolled": true
   },
   "outputs": [],
   "source": [
    "with open('prediction.json', 'w') as outfile2:\n",
    "    json.dump(Y_pred_str, outfile2)"
   ]
  }
 ],
 "metadata": {
  "kernelspec": {
   "display_name": "Python 3 (ipykernel)",
   "language": "python",
   "name": "python3"
  },
  "language_info": {
   "codemirror_mode": {
    "name": "ipython",
    "version": 3
   },
   "file_extension": ".py",
   "mimetype": "text/x-python",
   "name": "python",
   "nbconvert_exporter": "python",
   "pygments_lexer": "ipython3",
   "version": "3.9.7"
  }
 },
 "nbformat": 4,
 "nbformat_minor": 5
}
